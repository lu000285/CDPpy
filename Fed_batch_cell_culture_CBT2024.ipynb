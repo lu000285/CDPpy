{
 "cells": [
  {
   "cell_type": "markdown",
   "metadata": {},
   "source": [
    "# CBT short course 2024, Jupyter Notebook for data process pipeline tutorial \n",
    "\n",
    "This Python Juypyter Notebook demonstrates how to use our automated Python package to process raw fedbatch culture data to calculate cumulative consumptions/productions as well as specific rates of key chemical species we want to monitor in the fedbatch culture. After data-processing, the package allows users to aggregate processed datasets from different experiments/cell lines to an exported Excel worksheet. A built-in interactivate plotting function is provided such that one can compare different process attributes across different experiments and cell lines.\n",
    "\n",
    "The following tuturtoial notebook will be splitted into to four sections: 1. package setup, 2. example of processing one cell line dataset with multiple experiments, 3. example of processing datasets from multiple cell lines, 4. built-in interactive plot."
   ]
  },
  {
   "cell_type": "markdown",
   "metadata": {},
   "source": [
    "# 1. Package setup"
   ]
  },
  {
   "cell_type": "code",
   "execution_count": 1,
   "metadata": {},
   "outputs": [],
   "source": [
    "from CDPpy.helper import input_path\n",
    "from CDPpy import FedBatchCellCulture\n",
    "\n",
    "import pandas as pd\n",
    "pd.set_option('display.max_columns', 200)"
   ]
  },
  {
   "cell_type": "markdown",
   "metadata": {},
   "source": [
    "# 2. Processing one cell line dataset with multiple experiments"
   ]
  },
  {
   "cell_type": "markdown",
   "metadata": {},
   "source": [
    "## 2.1 Define data processing setting"
   ]
  },
  {
   "cell_type": "code",
   "execution_count": 2,
   "metadata": {},
   "outputs": [
    {
     "data": {
      "text/plain": [
       "Cell Line: CL1\n",
       "Feed concentration will be used: True\n",
       "Concentration after feeding will be used: False\n",
       "Regression Methods\n",
       "     Polynomial: True\n",
       "     Rolling window polynomial True"
      ]
     },
     "execution_count": 2,
     "metadata": {},
     "output_type": "execute_result"
    }
   ],
   "source": [
    "from CDPpy import FedBatchParameters\n",
    "\n",
    "# Define data prcessing setting\n",
    "param_1 = FedBatchParameters(cell_line_name='CL1', # cell line name\n",
    "                             use_concentration_after_feed=False, # if the there are measurements on concentrations after feeding\n",
    "                             use_feed_concentration=True, # If using the feed information to calculate the concentration after feeding\n",
    "                             regression_method=['polynomial', 'rolling_window_polynomial'], # regression methods, options: 'polynomial', 'two-point calculation', 'rolling_window_polynomial'\n",
    "                             rolling_polynomial_degree=3, # polynomial degrees of rolling regresssion\n",
    "                             rolling_polynomial_window=6) # window size of rolling regression\n",
    "\n",
    "\n",
    "# check/printout the data processing setting\n",
    "param_1"
   ]
  },
  {
   "cell_type": "markdown",
   "metadata": {},
   "source": [
    "# 2.2 Data processing"
   ]
  },
  {
   "cell_type": "code",
   "execution_count": 3,
   "metadata": {},
   "outputs": [],
   "source": [
    "# create a Python object for data-processing\n",
    "cell_line_1= FedBatchCellCulture()\n",
    "\n",
    "# path to the input data file\n",
    "path = input_path('Package_input_template.xlsx')\n",
    "\n",
    "# load the data set to the data-processing object\n",
    "cell_line_1.load_data(file=path)\n",
    "\n",
    "# peform data processsing with defined setting\n",
    "cell_line_1.perform_data_process(parameters=[param_1])"
   ]
  },
  {
   "cell_type": "markdown",
   "metadata": {},
   "source": [
    "# 2.3 Export to Excel sheet"
   ]
  },
  {
   "cell_type": "code",
   "execution_count": 4,
   "metadata": {},
   "outputs": [
    {
     "name": "stdout",
     "output_type": "stream",
     "text": [
      "output_CL1.xlsx  saved.\n"
     ]
    }
   ],
   "source": [
    "cell_line_1.save_excel(file_name='output_CL1.xlsx')\n"
   ]
  },
  {
   "cell_type": "markdown",
   "metadata": {},
   "source": [
    "# 3. Processing datasets from multiple cell lines\n",
    "\n",
    "## 3.1 Option 1: data processing at once"
   ]
  },
  {
   "cell_type": "code",
   "execution_count": 5,
   "metadata": {},
   "outputs": [
    {
     "name": "stdout",
     "output_type": "stream",
     "text": [
      "output_CL1_2_option1.xlsx  saved.\n"
     ]
    }
   ],
   "source": [
    "# Define data prcessing setting for cell line 1 (CL1)\n",
    "param_1 = FedBatchParameters(cell_line_name='CL1', # cell line name\n",
    "                             use_concentration_after_feed=False, # if the there are measurements on concentrations after feeding\n",
    "                             use_feed_concentration=True, # If using the feed information to calculate the concentration after feeding\n",
    "                             regression_method=['polynomial', 'rolling_window_polynomial'], # regression method to calculate the specific rates (in addition to two-point calculation)\n",
    "                             rolling_polynomial_degree=3, # polynomial degrees of rolling regresssion\n",
    "                             rolling_polynomial_window=6) # window size of rolling regression\n",
    "\n",
    "# Define data prcessing setting for cell line 2 (CL2)\n",
    "param_2 = FedBatchParameters(cell_line_name='CL2', # cell line name\n",
    "                             use_concentration_after_feed=True, # if the there are measurements on concentrations after feeding\n",
    "                             use_feed_concentration=False, # If using the feed information to calculate the concentration after feeding\n",
    "                             regression_method=['polynomial', 'rolling_window_polynomial'], # regression method to calculate the specific rates (in addition to two-point calculation)\n",
    "                             rolling_polynomial_degree=3, # polynomial degrees of rolling regresssion\n",
    "                             rolling_polynomial_window=6) # window size of rolling regression\n",
    "\n",
    "\n",
    "### Repeat section 2.2\n",
    "# create a Python object for data-processing of CL1/2\n",
    "cell_line_1_2= FedBatchCellCulture()\n",
    "\n",
    "# path to the input data file\n",
    "path = input_path('Package_input_template.xlsx')\n",
    "\n",
    "# load the data set to the data-processing object\n",
    "cell_line_1_2.load_data(file=path)\n",
    "\n",
    "# peform data processsing with defined setting. Can take separate settings for different cell lines/processes\n",
    "cell_line_1_2.perform_data_process(parameters=[param_1, param_2])\n",
    "\n",
    "# export the processed datasets\n",
    "cell_line_1_2.save_excel(file_name='output_CL1_2_option1.xlsx')"
   ]
  },
  {
   "cell_type": "markdown",
   "metadata": {},
   "source": [
    "# 4. Interactive plot"
   ]
  },
  {
   "cell_type": "code",
   "execution_count": 6,
   "metadata": {},
   "outputs": [
    {
     "data": {
      "text/html": [
       "\n",
       "        <iframe\n",
       "            width=\"100%\"\n",
       "            height=\"650\"\n",
       "            src=\"http://127.0.0.1:8015/\"\n",
       "            frameborder=\"0\"\n",
       "            allowfullscreen\n",
       "            \n",
       "        ></iframe>\n",
       "        "
      ],
      "text/plain": [
       "<IPython.lib.display.IFrame at 0x145b1c84a60>"
      ]
     },
     "metadata": {},
     "output_type": "display_data"
    }
   ],
   "source": [
    "# call out the interactive plot, change port number if an error mesaage taises\n",
    "cell_line_1_2.interactive_plot(port=8015)"
   ]
  }
 ],
 "metadata": {
  "kernelspec": {
   "display_name": "ccdpa",
   "language": "python",
   "name": "python3"
  },
  "language_info": {
   "codemirror_mode": {
    "name": "ipython",
    "version": 3
   },
   "file_extension": ".py",
   "mimetype": "text/x-python",
   "name": "python",
   "nbconvert_exporter": "python",
   "pygments_lexer": "ipython3",
   "version": "3.10.13"
  },
  "orig_nbformat": 4
 },
 "nbformat": 4,
 "nbformat_minor": 2
}
