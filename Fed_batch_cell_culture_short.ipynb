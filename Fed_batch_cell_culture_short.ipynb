{
 "cells": [
  {
   "cell_type": "markdown",
   "metadata": {},
   "source": [
    "# CBT short course 2024, jupyter notebook for data process pipeline tutorial \n",
    "\n",
    "This Python juypyter notebook demonstrates how to use our automated Python package to process raw fedbatch culture data to calculate cumulative consumptions/productions as well as specific rates of key chemical species we want to monitor in the fedbatch culture. After data-processing, the package allows users to aggregate processed datasets from different experiments/cell lines to an exported Excel worksheet. A built-in interactivate plotting function is provided such that one can compare different process attributes across different experiments and cell lines.\n",
    "\n",
    "The following tuturtoial notebook will be splitted into to four sections: 1. package setup, 2. example of processing one cell line dataset with multiple experiments, 3. example of processing datasets from multiple cell lines, 4. built-in interactive plot."
   ]
  },
  {
   "cell_type": "markdown",
   "metadata": {},
   "source": [
    "# 1. Package setup"
   ]
  },
  {
   "cell_type": "code",
   "execution_count": 1,
   "metadata": {},
   "outputs": [],
   "source": [
    "from CCDPApy.helper import input_path\n",
    "from CCDPApy import FedBatchParameters, FedBatchCellLine, FedBatchExpriment, FedBatchCellCulture\n",
    "\n",
    "import pandas as pd\n",
    "pd.set_option('display.max_columns', 200)"
   ]
  },
  {
   "cell_type": "markdown",
   "metadata": {},
   "source": [
    "# 2. Processing one cell dataset with multiple experiments"
   ]
  },
  {
   "cell_type": "markdown",
   "metadata": {},
   "source": [
    "## 2.1 Define data processing setting"
   ]
  },
  {
   "cell_type": "code",
   "execution_count": 2,
   "metadata": {},
   "outputs": [
    {
     "data": {
      "text/plain": [
       "Cell Line: CL1\n",
       "Feed concentration will be used: True\n",
       "Concentration after feeding will be used: False\n",
       "Regression Methods\n",
       "     Polynomial: True\n",
       "     Rolling window polynomial True"
      ]
     },
     "execution_count": 2,
     "metadata": {},
     "output_type": "execute_result"
    }
   ],
   "source": [
    "from CCDPApy import FedBatchParameters\n",
    "\n",
    "# Define data prcessing setting\n",
    "param_1 = FedBatchParameters(cell_line_name='CL1', # cell line name\n",
    "                             use_concentration_after_feed=False, # if the there are measurements on concentrations after feeding\n",
    "                             use_feed_concentration=True, # If using the feed information to calculate the concentration after feeding\n",
    "                             regression_method=['polynomial', 'rolling_window_polynomial'], # regression method to calculate the specific rates (in addition to two-point calculation)\n",
    "                             rolling_polynomial_degree=3, # polynomial degrees of rolling regresssion\n",
    "                             rolling_polynomial_window=6) # window size of rolling regression\n",
    "\n",
    "\"\"\"\n",
    "TODO:\n",
    "1. let the rolling regression use the same polynomial degree as the polynomial regression inputing from the data input files\n",
    "\"\"\"\n",
    "\n",
    "# check/printout the data processing setting\n",
    "param_1"
   ]
  },
  {
   "cell_type": "markdown",
   "metadata": {},
   "source": [
    "# 2.2 Data processing"
   ]
  },
  {
   "cell_type": "code",
   "execution_count": 3,
   "metadata": {},
   "outputs": [],
   "source": [
    "# create a Python object for data-processing\n",
    "cell_line_1= FedBatchCellCulture()\n",
    "\n",
    "# path to the input data file\n",
    "path = input_path('fed_batch_data.xlsx')\n",
    "\n",
    "# load the data set to the data-processing object\n",
    "cell_line_1.load_data(file=path)\n",
    "\n",
    "# peform data processsing with defined setting\n",
    "cell_line_1.perform_data_process(parameters=[param_1])"
   ]
  },
  {
   "cell_type": "markdown",
   "metadata": {},
   "source": [
    "# 2.3 Export to Excel sheet"
   ]
  },
  {
   "cell_type": "code",
   "execution_count": 7,
   "metadata": {},
   "outputs": [
    {
     "name": "stdout",
     "output_type": "stream",
     "text": [
      "output_CL1.xlsx  saved.\n"
     ]
    }
   ],
   "source": [
    "cell_line_1.save_excel(file_name='output_CL1.xlsx')\n"
   ]
  },
  {
   "cell_type": "markdown",
   "metadata": {},
   "source": [
    "# 3. Processing datasets from multiple cell lines\n",
    "\n",
    "## 3.1 Option 1: data processing at once"
   ]
  },
  {
   "cell_type": "code",
   "execution_count": 5,
   "metadata": {},
   "outputs": [
    {
     "name": "stdout",
     "output_type": "stream",
     "text": [
      "output_CL1_2_option1.xlsx  saved.\n"
     ]
    }
   ],
   "source": [
    "# Define data prcessing setting for cell line 1 (CL1)\n",
    "param_1 = FedBatchParameters(cell_line_name='CL1', # cell line name\n",
    "                             use_concentration_after_feed=False, # if the there are measurements on concentrations after feeding\n",
    "                             use_feed_concentration=True, # If using the feed information to calculate the concentration after feeding\n",
    "                             regression_method=['polynomial', 'rolling_window_polynomial'], # regression method to calculate the specific rates (in addition to two-point calculation)\n",
    "                             rolling_polynomial_degree=3, # polynomial degrees of rolling regresssion\n",
    "                             rolling_polynomial_window=6) # window size of rolling regression\n",
    "\n",
    "# Define data prcessing setting for cell line 2 (CL2)\n",
    "param_2 = FedBatchParameters(cell_line_name='CL2', # cell line name\n",
    "                             use_concentration_after_feed=True, # if the there are measurements on concentrations after feeding\n",
    "                             use_feed_concentration=False, # If using the feed information to calculate the concentration after feeding\n",
    "                             regression_method=['polynomial', 'rolling_window_polynomial'], # regression method to calculate the specific rates (in addition to two-point calculation)\n",
    "                             rolling_polynomial_degree=3, # polynomial degrees of rolling regresssion\n",
    "                             rolling_polynomial_window=6) # window size of rolling regression\n",
    "\n",
    "\n",
    "### Repeat section 2.2\n",
    "# create a Python object for data-processing of CL1/2\n",
    "cell_line_1_2= FedBatchCellCulture()\n",
    "\n",
    "# path to the input data file\n",
    "path = input_path('fed_batch_data.xlsx')\n",
    "\n",
    "# load the data set to the data-processing object\n",
    "cell_line_1_2.load_data(file=path)\n",
    "\n",
    "# peform data processsing with defined setting. Can take separate settings for different cell lines/processes\n",
    "cell_line_1_2.perform_data_process(parameters=[param_1, param_2])\n",
    "\n",
    "# export the processed datasets\n",
    "cell_line_1_2.save_excel(file_name='output_CL1_2_option1.xlsx')"
   ]
  },
  {
   "cell_type": "markdown",
   "metadata": {},
   "source": [
    "## 3.2 Option 2: append new datasets to the existing processed datasets"
   ]
  },
  {
   "cell_type": "code",
   "execution_count": 6,
   "metadata": {},
   "outputs": [
    {
     "name": "stdout",
     "output_type": "stream",
     "text": [
      "5\n"
     ]
    },
    {
     "ename": "KeyError",
     "evalue": "'Igg'",
     "output_type": "error",
     "traceback": [
      "\u001b[1;31m---------------------------------------------------------------------------\u001b[0m",
      "\u001b[1;31mKeyError\u001b[0m                                  Traceback (most recent call last)",
      "Cell \u001b[1;32mIn[6], line 22\u001b[0m\n\u001b[0;32m     19\u001b[0m cell_line_1_2\u001b[38;5;241m.\u001b[39mload_data(file\u001b[38;5;241m=\u001b[39mpath)\n\u001b[0;32m     21\u001b[0m \u001b[38;5;66;03m# import the existing processed dataset from CL1\u001b[39;00m\n\u001b[1;32m---> 22\u001b[0m \u001b[43mcell_line_1_2\u001b[49m\u001b[38;5;241;43m.\u001b[39;49m\u001b[43mimport_data\u001b[49m\u001b[43m(\u001b[49m\u001b[43mfile_name\u001b[49m\u001b[38;5;241;43m=\u001b[39;49m\u001b[38;5;124;43m'\u001b[39;49m\u001b[38;5;124;43moutput_CL1.xlsx\u001b[39;49m\u001b[38;5;124;43m'\u001b[39;49m\u001b[43m)\u001b[49m\n\u001b[0;32m     25\u001b[0m \u001b[38;5;66;03m# peform data processsing with defined setting. Can take separate settings for different cell lines/processes\u001b[39;00m\n\u001b[0;32m     26\u001b[0m cell_line_1_2\u001b[38;5;241m.\u001b[39mperform_data_process(parameters\u001b[38;5;241m=\u001b[39m[param_2])\n",
      "File \u001b[1;32mg:\\My Drive\\Work\\Project\\CDPpy\\CCDPApy\\cell_culture_types\\fed_batch\\import_data\\import_data.py:69\u001b[0m, in \u001b[0;36mImportMixin.import_data\u001b[1;34m(self, file_name, sheet_name)\u001b[0m\n\u001b[0;32m     66\u001b[0m \u001b[38;5;28mself\u001b[39m\u001b[38;5;241m.\u001b[39m_processed_cell_lines\u001b[38;5;241m.\u001b[39mupdate(processed_info)\n\u001b[0;32m     68\u001b[0m \u001b[38;5;28mself\u001b[39m\u001b[38;5;241m.\u001b[39m_get_processed_cell_data(cell_line_id, run_time, exp_data, cumulative_data, sp_rate_data, sp_rate_poly_data, sp_rate_rolling_data)\n\u001b[1;32m---> 69\u001b[0m \u001b[38;5;28;43mself\u001b[39;49m\u001b[38;5;241;43m.\u001b[39;49m\u001b[43m_get_processed_metabolite_data\u001b[49m\u001b[43m(\u001b[49m\u001b[43mcell_line_id\u001b[49m\u001b[43m,\u001b[49m\u001b[43m \u001b[49m\u001b[43mrun_time\u001b[49m\u001b[43m,\u001b[49m\u001b[43m \u001b[49m\u001b[43mexp_data\u001b[49m\u001b[43m,\u001b[49m\u001b[43m \u001b[49m\u001b[43mconc_before_data\u001b[49m\u001b[43m,\u001b[49m\u001b[43m \u001b[49m\u001b[43mconc_after_data\u001b[49m\u001b[43m,\u001b[49m\u001b[43m \u001b[49m\u001b[43mcumulative_data\u001b[49m\u001b[43m,\u001b[49m\u001b[43m \u001b[49m\u001b[43msp_rate_data\u001b[49m\u001b[43m,\u001b[49m\u001b[43m \u001b[49m\u001b[43msp_rate_poly_data\u001b[49m\u001b[43m,\u001b[49m\u001b[43m \u001b[49m\u001b[43msp_rate_rolling_data\u001b[49m\u001b[43m)\u001b[49m\n\u001b[0;32m     71\u001b[0m \u001b[38;5;66;03m# Concat all processed data\u001b[39;00m\n\u001b[0;32m     72\u001b[0m \u001b[38;5;28;01mif\u001b[39;00m \u001b[38;5;28mself\u001b[39m\u001b[38;5;241m.\u001b[39m_processed_data\u001b[38;5;241m.\u001b[39msize\u001b[38;5;241m==\u001b[39m\u001b[38;5;241m0\u001b[39m:\n",
      "File \u001b[1;32mg:\\My Drive\\Work\\Project\\CDPpy\\CCDPApy\\cell_culture_types\\fed_batch\\import_data\\import_data.py:171\u001b[0m, in \u001b[0;36mImportMixin._get_processed_metabolite_data\u001b[1;34m(self, cell_line_id, run_time, exp_data, conc_before, conc_after, cumulative, sp_rate, sp_rate_poly, sp_rate_rolling)\u001b[0m\n\u001b[0;32m    169\u001b[0m name \u001b[38;5;241m=\u001b[39m name\u001b[38;5;241m.\u001b[39mcapitalize() \u001b[38;5;28;01mif\u001b[39;00m name \u001b[38;5;241m!=\u001b[39m \u001b[38;5;124m'\u001b[39m\u001b[38;5;124mIgG\u001b[39m\u001b[38;5;124m'\u001b[39m \u001b[38;5;28;01melse\u001b[39;00m \u001b[38;5;124m'\u001b[39m\u001b[38;5;124mIgG\u001b[39m\u001b[38;5;124m'\u001b[39m\n\u001b[0;32m    170\u001b[0m temp \u001b[38;5;241m=\u001b[39m create_value_unit_df(cumulative[col])\n\u001b[1;32m--> 171\u001b[0m temp[\u001b[38;5;124m'\u001b[39m\u001b[38;5;124mstate\u001b[39m\u001b[38;5;124m'\u001b[39m] \u001b[38;5;241m=\u001b[39m \u001b[43mSPECIES_STATE\u001b[49m\u001b[43m[\u001b[49m\u001b[43mname\u001b[49m\u001b[43m]\u001b[49m\n\u001b[0;32m    172\u001b[0m temp[\u001b[38;5;124m'\u001b[39m\u001b[38;5;124mmethod\u001b[39m\u001b[38;5;124m'\u001b[39m] \u001b[38;5;241m=\u001b[39m \u001b[38;5;124m'\u001b[39m\u001b[38;5;124mtwoPoint\u001b[39m\u001b[38;5;124m'\u001b[39m\n\u001b[0;32m    173\u001b[0m temp[\u001b[38;5;124m'\u001b[39m\u001b[38;5;124mspecies\u001b[39m\u001b[38;5;124m'\u001b[39m] \u001b[38;5;241m=\u001b[39m name\n",
      "\u001b[1;31mKeyError\u001b[0m: 'Igg'"
     ]
    }
   ],
   "source": [
    "\n",
    "# Define data prcessing setting for cell line 2 (CL2)\n",
    "param_2 = FedBatchParameters(cell_line_name='CL2', # cell line name\n",
    "                             use_concentration_after_feed=True, # if the there are measurements on concentrations after feeding\n",
    "                             use_feed_concentration=False, # If using the feed information to calculate the concentration after feeding\n",
    "                             regression_method=['polynomial', 'rolling_window_polynomial'], # regression method to calculate the specific rates (in addition to two-point calculation)\n",
    "                             rolling_polynomial_degree=3, # polynomial degrees of rolling regresssion\n",
    "                             rolling_polynomial_window=6) # window size of rolling regression\n",
    "\n",
    "\n",
    "### Repeat section 2.2\n",
    "# create a Python object for data-processing of CL1/2\n",
    "cell_line_1_2= FedBatchCellCulture()\n",
    "\n",
    "# path to the input data file\n",
    "path = input_path('fed_batch_data.xlsx')\n",
    "\n",
    "\n",
    "# load the data set to the data-processing object\n",
    "cell_line_1_2.load_data(file=path)\n",
    "\n",
    "# import the existing processed dataset from CL1\n",
    "cell_line_1_2.import_data(file_name='output_CL1.xlsx')\n",
    "\n",
    "\n",
    "# peform data processsing with defined setting. Can take separate settings for different cell lines/processes\n",
    "cell_line_1_2.perform_data_process(parameters=[param_2])\n",
    "\n",
    "\n",
    "# export the processed datasets\n",
    "cell_line_1_2.save_excel(file_name='output_CL1_2_option2.xlsx')"
   ]
  },
  {
   "cell_type": "markdown",
   "metadata": {},
   "source": [
    "# 4. Interactive plot"
   ]
  },
  {
   "cell_type": "code",
   "execution_count": null,
   "metadata": {},
   "outputs": [
    {
     "name": "stderr",
     "output_type": "stream",
     "text": [
      "c:\\Users\\lu000285\\Anaconda3\\envs\\ccdpa\\lib\\site-packages\\dash\\dash.py:550: UserWarning:\n",
      "\n",
      "JupyterDash is deprecated, use Dash instead.\n",
      "See https://dash.plotly.com/dash-in-jupyter for more details.\n",
      "\n"
     ]
    },
    {
     "data": {
      "text/html": [
       "\n",
       "        <iframe\n",
       "            width=\"100%\"\n",
       "            height=\"650\"\n",
       "            src=\"http://127.0.0.1:8081/\"\n",
       "            frameborder=\"0\"\n",
       "            allowfullscreen\n",
       "            \n",
       "        ></iframe>\n",
       "        "
      ],
      "text/plain": [
       "<IPython.lib.display.IFrame at 0x1ee10d8a1d0>"
      ]
     },
     "metadata": {},
     "output_type": "display_data"
    },
    {
     "data": {
      "text/html": [
       "\n",
       "        <iframe\n",
       "            width=\"100%\"\n",
       "            height=\"650\"\n",
       "            src=\"http://127.0.0.1:8081/\"\n",
       "            frameborder=\"0\"\n",
       "            allowfullscreen\n",
       "            \n",
       "        ></iframe>\n",
       "        "
      ],
      "text/plain": [
       "<IPython.lib.display.IFrame at 0x1ee10b1ed10>"
      ]
     },
     "metadata": {},
     "output_type": "display_data"
    }
   ],
   "source": [
    "# call out the interactive plot\n",
    "cell_line_1_2.interactive_plot(port=8081)"
   ]
  }
 ],
 "metadata": {
  "kernelspec": {
   "display_name": "ccdpa",
   "language": "python",
   "name": "python3"
  },
  "language_info": {
   "codemirror_mode": {
    "name": "ipython",
    "version": 3
   },
   "file_extension": ".py",
   "mimetype": "text/x-python",
   "name": "python",
   "nbconvert_exporter": "python",
   "pygments_lexer": "ipython3",
   "version": "3.10.13"
  },
  "orig_nbformat": 4
 },
 "nbformat": 4,
 "nbformat_minor": 2
}
